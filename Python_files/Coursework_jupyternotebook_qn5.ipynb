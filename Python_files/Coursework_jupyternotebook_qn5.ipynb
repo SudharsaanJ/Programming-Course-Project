{
 "cells": [
  {
   "cell_type": "markdown",
   "id": "5b5e49f9",
   "metadata": {},
   "source": [
    "# ST2195 Coursework question 5\n",
    "\n",
    "### UOL Student Number 200549079"
   ]
  },
  {
   "cell_type": "markdown",
   "id": "ec9ffcd7",
   "metadata": {},
   "source": [
    "# Importing & Loading Necessary Packages "
   ]
  },
  {
   "cell_type": "code",
   "execution_count": 1,
   "id": "3ccb81b3",
   "metadata": {},
   "outputs": [],
   "source": [
    "import os\n",
    "import sqlite3\n",
    "import pandas as pd\n",
    "import seaborn as sns\n",
    "import numpy as np\n",
    "import matplotlib.pyplot as plt\n",
    "from sklearn.model_selection import train_test_split, GridSearchCV \n",
    "from sklearn.linear_model import LinearRegression\n",
    "from sklearn.linear_model import Lasso\n",
    "from sklearn.linear_model import Ridge\n",
    "from sklearn.pipeline import Pipeline\n",
    "from sklearn.impute import SimpleImputer\n",
    "from sklearn.preprocessing import StandardScaler, OneHotEncoder\n",
    "from sklearn.compose import ColumnTransformer #transform different types\n",
    "from sklearn.metrics import mean_squared_error, r2_score, mean_absolute_error, accuracy_score\n",
    "from math import sqrt"
   ]
  },
  {
   "cell_type": "markdown",
   "id": "807b711f",
   "metadata": {},
   "source": [
    "# Working Directory"
   ]
  },
  {
   "cell_type": "code",
   "execution_count": 2,
   "id": "8ff9a765",
   "metadata": {},
   "outputs": [
    {
     "data": {
      "text/plain": [
       "'C:\\\\Users\\\\Sudharsaan\\\\OneDrive\\\\SIM\\\\Year 2\\\\ST2195 Programming for Data Science\\\\Coursework\\\\Essential Harvard Dataverse Files'"
      ]
     },
     "execution_count": 2,
     "metadata": {},
     "output_type": "execute_result"
    }
   ],
   "source": [
    "# Input your own directory where the Harvard Dataverse files are located within the code below.\n",
    "os.chdir(\"C:\\\\Users\\\\Sudharsaan\\\\OneDrive\\\\SIM\\\\Year 2\\\\ST2195 Programming for Data Science\\\\Coursework\\\\Essential Harvard Dataverse Files\")\n",
    "os.getcwd()"
   ]
  },
  {
   "cell_type": "markdown",
   "id": "58f7f932",
   "metadata": {},
   "source": [
    "# Establishing connection with airlinemain_py database"
   ]
  },
  {
   "cell_type": "code",
   "execution_count": 3,
   "id": "f4a9b95f",
   "metadata": {},
   "outputs": [],
   "source": [
    "conn = sqlite3.connect(\"airlinemain_py.db\")"
   ]
  },
  {
   "cell_type": "code",
   "execution_count": 4,
   "id": "576f8569",
   "metadata": {},
   "outputs": [],
   "source": [
    "c = conn.cursor()"
   ]
  },
  {
   "cell_type": "markdown",
   "id": "36e769fb",
   "metadata": {},
   "source": [
    "# Performing Query on question 5 of coursework\n",
    "\n",
    "\n",
    "Question 5 asks to use the available variables construct a model that predicts delays. Delays in the context of our model refers to the arrival delay. Thus, we will be building a model that predicts **arrival delay (target/response variable)** of flights that is based on data collected in 2006 & 2007. The **features** that will be chosen for bulding the model are:\n",
    "- CarrierDelay, WeatherDelay, NASDelay, SecurityDelay, LateAircraftDelay, DepDelay, & AgeofPlane.\n",
    "\n",
    "Take note that we remove cancelled & diverted flights from the dataset as rows of cancelled & diverted flights contain many null values in its features. This is due to the nature of cancelled & diverted flights. Furthermore, we aim to use age of plane as one of the features. In question 2, we queried for planes between ages 0 & 61 given the years the planes were manufactured & the latest year of flight in our dataset. Thus, when querying for age of planes as one of the features in our model, we once again restrict planes whose ages are below 0 & above 61 as they are considered erroneous data given the context of our analysis."
   ]
  },
  {
   "cell_type": "code",
   "execution_count": 5,
   "id": "451b8ba9",
   "metadata": {},
   "outputs": [
    {
     "data": {
      "text/html": [
       "<div>\n",
       "<style scoped>\n",
       "    .dataframe tbody tr th:only-of-type {\n",
       "        vertical-align: middle;\n",
       "    }\n",
       "\n",
       "    .dataframe tbody tr th {\n",
       "        vertical-align: top;\n",
       "    }\n",
       "\n",
       "    .dataframe thead th {\n",
       "        text-align: right;\n",
       "    }\n",
       "</style>\n",
       "<table border=\"1\" class=\"dataframe\">\n",
       "  <thead>\n",
       "    <tr style=\"text-align: right;\">\n",
       "      <th></th>\n",
       "      <th>CarrierDelay</th>\n",
       "      <th>WeatherDelay</th>\n",
       "      <th>NASDelay</th>\n",
       "      <th>SecurityDelay</th>\n",
       "      <th>LateAircraftDelay</th>\n",
       "      <th>DepDelay</th>\n",
       "      <th>AgeofPlane</th>\n",
       "      <th>ArrDelay</th>\n",
       "    </tr>\n",
       "  </thead>\n",
       "  <tbody>\n",
       "    <tr>\n",
       "      <th>0</th>\n",
       "      <td>0</td>\n",
       "      <td>0</td>\n",
       "      <td>0</td>\n",
       "      <td>0</td>\n",
       "      <td>0</td>\n",
       "      <td>-2.0</td>\n",
       "      <td>7</td>\n",
       "      <td>6.0</td>\n",
       "    </tr>\n",
       "    <tr>\n",
       "      <th>1</th>\n",
       "      <td>0</td>\n",
       "      <td>0</td>\n",
       "      <td>0</td>\n",
       "      <td>0</td>\n",
       "      <td>0</td>\n",
       "      <td>0.0</td>\n",
       "      <td>9</td>\n",
       "      <td>-23.0</td>\n",
       "    </tr>\n",
       "    <tr>\n",
       "      <th>2</th>\n",
       "      <td>0</td>\n",
       "      <td>0</td>\n",
       "      <td>0</td>\n",
       "      <td>0</td>\n",
       "      <td>0</td>\n",
       "      <td>-8.0</td>\n",
       "      <td>16</td>\n",
       "      <td>0.0</td>\n",
       "    </tr>\n",
       "    <tr>\n",
       "      <th>3</th>\n",
       "      <td>0</td>\n",
       "      <td>0</td>\n",
       "      <td>0</td>\n",
       "      <td>0</td>\n",
       "      <td>0</td>\n",
       "      <td>-3.0</td>\n",
       "      <td>6</td>\n",
       "      <td>2.0</td>\n",
       "    </tr>\n",
       "    <tr>\n",
       "      <th>4</th>\n",
       "      <td>0</td>\n",
       "      <td>0</td>\n",
       "      <td>0</td>\n",
       "      <td>0</td>\n",
       "      <td>0</td>\n",
       "      <td>-3.0</td>\n",
       "      <td>17</td>\n",
       "      <td>7.0</td>\n",
       "    </tr>\n",
       "    <tr>\n",
       "      <th>...</th>\n",
       "      <td>...</td>\n",
       "      <td>...</td>\n",
       "      <td>...</td>\n",
       "      <td>...</td>\n",
       "      <td>...</td>\n",
       "      <td>...</td>\n",
       "      <td>...</td>\n",
       "      <td>...</td>\n",
       "    </tr>\n",
       "    <tr>\n",
       "      <th>11564870</th>\n",
       "      <td>0</td>\n",
       "      <td>0</td>\n",
       "      <td>0</td>\n",
       "      <td>0</td>\n",
       "      <td>0</td>\n",
       "      <td>-7.0</td>\n",
       "      <td>15</td>\n",
       "      <td>13.0</td>\n",
       "    </tr>\n",
       "    <tr>\n",
       "      <th>11564871</th>\n",
       "      <td>0</td>\n",
       "      <td>0</td>\n",
       "      <td>0</td>\n",
       "      <td>0</td>\n",
       "      <td>0</td>\n",
       "      <td>11.0</td>\n",
       "      <td>7</td>\n",
       "      <td>5.0</td>\n",
       "    </tr>\n",
       "    <tr>\n",
       "      <th>11564872</th>\n",
       "      <td>0</td>\n",
       "      <td>0</td>\n",
       "      <td>15</td>\n",
       "      <td>0</td>\n",
       "      <td>0</td>\n",
       "      <td>-1.0</td>\n",
       "      <td>20</td>\n",
       "      <td>15.0</td>\n",
       "    </tr>\n",
       "    <tr>\n",
       "      <th>11564873</th>\n",
       "      <td>0</td>\n",
       "      <td>0</td>\n",
       "      <td>0</td>\n",
       "      <td>0</td>\n",
       "      <td>36</td>\n",
       "      <td>38.0</td>\n",
       "      <td>17</td>\n",
       "      <td>36.0</td>\n",
       "    </tr>\n",
       "    <tr>\n",
       "      <th>11564874</th>\n",
       "      <td>24</td>\n",
       "      <td>0</td>\n",
       "      <td>9</td>\n",
       "      <td>0</td>\n",
       "      <td>0</td>\n",
       "      <td>24.0</td>\n",
       "      <td>20</td>\n",
       "      <td>33.0</td>\n",
       "    </tr>\n",
       "  </tbody>\n",
       "</table>\n",
       "<p>11564875 rows × 8 columns</p>\n",
       "</div>"
      ],
      "text/plain": [
       "          CarrierDelay  WeatherDelay  NASDelay  SecurityDelay  \\\n",
       "0                    0             0         0              0   \n",
       "1                    0             0         0              0   \n",
       "2                    0             0         0              0   \n",
       "3                    0             0         0              0   \n",
       "4                    0             0         0              0   \n",
       "...                ...           ...       ...            ...   \n",
       "11564870             0             0         0              0   \n",
       "11564871             0             0         0              0   \n",
       "11564872             0             0        15              0   \n",
       "11564873             0             0         0              0   \n",
       "11564874            24             0         9              0   \n",
       "\n",
       "          LateAircraftDelay  DepDelay  AgeofPlane  ArrDelay  \n",
       "0                         0      -2.0           7       6.0  \n",
       "1                         0       0.0           9     -23.0  \n",
       "2                         0      -8.0          16       0.0  \n",
       "3                         0      -3.0           6       2.0  \n",
       "4                         0      -3.0          17       7.0  \n",
       "...                     ...       ...         ...       ...  \n",
       "11564870                  0      -7.0          15      13.0  \n",
       "11564871                  0      11.0           7       5.0  \n",
       "11564872                  0      -1.0          20      15.0  \n",
       "11564873                 36      38.0          17      36.0  \n",
       "11564874                  0      24.0          20      33.0  \n",
       "\n",
       "[11564875 rows x 8 columns]"
      ]
     },
     "execution_count": 5,
     "metadata": {},
     "output_type": "execute_result"
    }
   ],
   "source": [
    "# Querying information that is required for building the model (i.e. Subsetting the dataset by its features & the target)\n",
    "q5_dataset = c.execute('''\n",
    "                          SELECT CarrierDelay, WeatherDelay, NASDelay, SecurityDelay, LateAircraftDelay, DepDelay, \n",
    "                          (ontime.Year - planes.year), ArrDelay\n",
    "                          FROM ontime JOIN planes ON ontime.TailNum = planes.tailnum\n",
    "                          WHERE Cancelled = 0 AND Diverted = 0 AND (ontime.Year - planes.year) > -1 AND \n",
    "                          (ontime.Year - planes.year) < 62''')\n",
    "q5_dataset = pd.DataFrame(q5_dataset)\n",
    "q5_dataset = q5_dataset.rename(columns = {0: \"CarrierDelay\", 1: \"WeatherDelay\", 2: \"NASDelay\", 3: \"SecurityDelay\", \n",
    "                                          4: \"LateAircraftDelay\", 5: \"DepDelay\", 6: \"AgeofPlane\", 7: \"ArrDelay\"})\n",
    "q5_dataset"
   ]
  },
  {
   "cell_type": "markdown",
   "id": "ceef6b05",
   "metadata": {},
   "source": [
    "## Splitting into training & test datasets"
   ]
  },
  {
   "cell_type": "code",
   "execution_count": 6,
   "id": "1a15929d",
   "metadata": {},
   "outputs": [],
   "source": [
    "features = [\"CarrierDelay\", \"WeatherDelay\", \"NASDelay\", \"SecurityDelay\", \"LateAircraftDelay\", \"DepDelay\", \"AgeofPlane\"]\n",
    "X = q5_dataset[features].copy()\n",
    "y = q5_dataset[\"ArrDelay\"].copy()\n",
    "\n",
    "X_train, X_test, y_train, y_test = train_test_split(X, y, test_size = 0.3, random_state = 1)"
   ]
  },
  {
   "cell_type": "markdown",
   "id": "ea0217b0",
   "metadata": {},
   "source": [
    "## Pipelines: Pre-processing stage"
   ]
  },
  {
   "cell_type": "code",
   "execution_count": 7,
   "id": "087f6fd1",
   "metadata": {},
   "outputs": [],
   "source": [
    "numerical_features = [\"CarrierDelay\", \"WeatherDelay\", \"NASDelay\", \"SecurityDelay\", \"LateAircraftDelay\", \"DepDelay\", \n",
    "                      \"AgeofPlane\"]\n",
    "\n",
    "numerical_transformer = Pipeline(steps=[\n",
    "    ('imputer', SimpleImputer()),\n",
    "    ('scaler', StandardScaler())])\n",
    "\n",
    "data_transformer = ColumnTransformer(\n",
    "    transformers = [('numerical', numerical_transformer, numerical_features)])"
   ]
  },
  {
   "cell_type": "markdown",
   "id": "1aee61de",
   "metadata": {},
   "source": [
    "## Setting parameters for hyper parameter tuning "
   ]
  },
  {
   "cell_type": "code",
   "execution_count": 8,
   "id": "cfbd3711",
   "metadata": {},
   "outputs": [],
   "source": [
    "param_grid = {\n",
    "    'data_transformer__numerical__imputer__strategy': ['mean', 'median', 'most_frequent']\n",
    "}"
   ]
  },
  {
   "cell_type": "markdown",
   "id": "97bb185f",
   "metadata": {},
   "source": [
    "## Creating Models to predict Arrival Delay\n",
    "\n",
    "We will be creating **3 different models** to predict arrival delay & assessing which model is the best using various **metrics**. The models to be created are:\n",
    "1. Linear Regression Model\n",
    "2. Lasso Regression Model\n",
    "3. Ridge Regression Model"
   ]
  },
  {
   "cell_type": "markdown",
   "id": "b5da57e2",
   "metadata": {},
   "source": [
    "### Linear Regression Model"
   ]
  },
  {
   "cell_type": "code",
   "execution_count": null,
   "id": "2cabc6dd",
   "metadata": {},
   "outputs": [],
   "source": [
    "pipe_lm = Pipeline(steps=[('data_transformer', data_transformer),\n",
    "                          ('pipe_lm', LinearRegression())])\n",
    "\n",
    "grid_lm = GridSearchCV(pipe_lm, param_grid=param_grid, n_jobs = -1) \n",
    "grid_lm.fit(X_train, y_train);"
   ]
  },
  {
   "cell_type": "code",
   "execution_count": 10,
   "id": "0a39172b",
   "metadata": {},
   "outputs": [],
   "source": [
    "y_predict_lm = grid_lm.predict(X_test)"
   ]
  },
  {
   "cell_type": "code",
   "execution_count": 11,
   "id": "b41daff2",
   "metadata": {},
   "outputs": [
    {
     "data": {
      "image/png": "[encoded data removed]",
      "text/plain": [
       "<Figure size 432x288 with 1 Axes>"
      ]
     },
     "metadata": {
      "needs_background": "light"
     },
     "output_type": "display_data"
    }
   ],
   "source": [
    "sns.regplot(x=y_predict_lm, y=y_test, color='red', marker=\"^\")\n",
    "plt.xlabel(\"Predicted Arrival Delay\")\n",
    "plt.ylabel(\"Actual Arrival Delay\")\n",
    "plt.title(\"Figure 5.1: Linear Regression Model on Arrival Delay\")\n",
    "plt.show()"
   ]
  },
  {
   "cell_type": "code",
   "execution_count": 12,
   "id": "6309fd54",
   "metadata": {},
   "outputs": [
    {
     "data": {
      "text/plain": [
       "0.9500514233102522"
      ]
     },
     "execution_count": 12,
     "metadata": {},
     "output_type": "execute_result"
    }
   ],
   "source": [
    "grid_lm.best_score_"
   ]
  },
  {
   "cell_type": "code",
   "execution_count": 13,
   "id": "d9e77ebc",
   "metadata": {},
   "outputs": [
    {
     "data": {
      "text/plain": [
       "{'data_transformer__numerical__imputer__strategy': 'median'}"
      ]
     },
     "execution_count": 13,
     "metadata": {},
     "output_type": "execute_result"
    }
   ],
   "source": [
    "grid_lm.best_params_"
   ]
  },
  {
   "cell_type": "code",
   "execution_count": 14,
   "id": "a1cb1b85",
   "metadata": {},
   "outputs": [
    {
     "data": {
      "text/html": [
       "<div>\n",
       "<style scoped>\n",
       "    .dataframe tbody tr th:only-of-type {\n",
       "        vertical-align: middle;\n",
       "    }\n",
       "\n",
       "    .dataframe tbody tr th {\n",
       "        vertical-align: top;\n",
       "    }\n",
       "\n",
       "    .dataframe thead th {\n",
       "        text-align: right;\n",
       "    }\n",
       "</style>\n",
       "<table border=\"1\" class=\"dataframe\">\n",
       "  <thead>\n",
       "    <tr style=\"text-align: right;\">\n",
       "      <th></th>\n",
       "      <th>Linear</th>\n",
       "    </tr>\n",
       "  </thead>\n",
       "  <tbody>\n",
       "    <tr>\n",
       "      <th>RMSE</th>\n",
       "      <td>8.506990</td>\n",
       "    </tr>\n",
       "    <tr>\n",
       "      <th>MSE</th>\n",
       "      <td>72.368877</td>\n",
       "    </tr>\n",
       "    <tr>\n",
       "      <th>MAE</th>\n",
       "      <td>6.508281</td>\n",
       "    </tr>\n",
       "    <tr>\n",
       "      <th>r2</th>\n",
       "      <td>0.950125</td>\n",
       "    </tr>\n",
       "  </tbody>\n",
       "</table>\n",
       "</div>"
      ],
      "text/plain": [
       "         Linear\n",
       "RMSE   8.506990\n",
       "MSE   72.368877\n",
       "MAE    6.508281\n",
       "r2     0.950125"
      ]
     },
     "execution_count": 14,
     "metadata": {},
     "output_type": "execute_result"
    }
   ],
   "source": [
    "RMSE = np.sqrt(mean_squared_error(y_test, y_predict_lm)) # Calculating Root Mean Squared Error (RMSE)\n",
    "MSE = mean_squared_error(y_test, y_predict_lm) # Calculating Mean Squared Error (MSE)\n",
    "MAE = mean_absolute_error(y_test, y_predict_lm) # Calculating Mean Absolute Error (MAE)\n",
    "r2 = r2_score(y_test, y_predict_lm) # Calculating R-Squared (ranges between 0 & 1 - The higher the value, the better the model)\n",
    "\n",
    "Metrics_lm = [RMSE, MSE, MAE, r2]\n",
    "Metrics_lm = pd.DataFrame(Metrics_lm)\n",
    "Metrics_lm.index = [\"RMSE\", \"MSE\", \"MAE\", \"r2\"]\n",
    "Metrics_lm.columns = [\"Linear\"]\n",
    "Metrics_lm"
   ]
  },
  {
   "cell_type": "markdown",
   "id": "5ab5967b",
   "metadata": {},
   "source": [
    "### Lasso Regression Model"
   ]
  },
  {
   "cell_type": "code",
   "execution_count": null,
   "id": "81988a38",
   "metadata": {},
   "outputs": [],
   "source": [
    "pipe_ls = Pipeline(steps=[('data_transformer', data_transformer),\n",
    "                          ('pipe_ls', Lasso(random_state = 1))])\n",
    "\n",
    "grid_ls = GridSearchCV(pipe_ls, param_grid = param_grid, n_jobs = -1) \n",
    "grid_ls.fit(X_train, y_train);"
   ]
  },
  {
   "cell_type": "code",
   "execution_count": 16,
   "id": "d1ac51c3",
   "metadata": {},
   "outputs": [],
   "source": [
    "y_predict_ls = grid_ls.predict(X_test)"
   ]
  },
  {
   "cell_type": "code",
   "execution_count": 17,
   "id": "a12be6a5",
   "metadata": {},
   "outputs": [
    {
     "data": {
      "image/png": "[encoded data removed]",
      "text/plain": [
       "<Figure size 432x288 with 1 Axes>"
      ]
     },
     "metadata": {
      "needs_background": "light"
     },
     "output_type": "display_data"
    }
   ],
   "source": [
    "sns.regplot(x=y_predict_ls, y=y_test, color='green', marker=\"D\")\n",
    "plt.xlabel(\"Predicted Arrival Delay\")\n",
    "plt.ylabel(\"Actual Arrival Delay\")\n",
    "plt.title(\"Figure 5.2: Lasso Regression Model on Arrival Delay\")\n",
    "plt.show()"
   ]
  },
  {
   "cell_type": "code",
   "execution_count": 18,
   "id": "40575949",
   "metadata": {},
   "outputs": [
    {
     "data": {
      "text/plain": [
       "0.9429952910886961"
      ]
     },
     "execution_count": 18,
     "metadata": {},
     "output_type": "execute_result"
    }
   ],
   "source": [
    "grid_ls.best_score_"
   ]
  },
  {
   "cell_type": "code",
   "execution_count": 19,
   "id": "02975136",
   "metadata": {},
   "outputs": [
    {
     "data": {
      "text/plain": [
       "{'data_transformer__numerical__imputer__strategy': 'median'}"
      ]
     },
     "execution_count": 19,
     "metadata": {},
     "output_type": "execute_result"
    }
   ],
   "source": [
    "grid_ls.best_params_"
   ]
  },
  {
   "cell_type": "code",
   "execution_count": 20,
   "id": "0f027483",
   "metadata": {},
   "outputs": [
    {
     "data": {
      "text/html": [
       "<div>\n",
       "<style scoped>\n",
       "    .dataframe tbody tr th:only-of-type {\n",
       "        vertical-align: middle;\n",
       "    }\n",
       "\n",
       "    .dataframe tbody tr th {\n",
       "        vertical-align: top;\n",
       "    }\n",
       "\n",
       "    .dataframe thead th {\n",
       "        text-align: right;\n",
       "    }\n",
       "</style>\n",
       "<table border=\"1\" class=\"dataframe\">\n",
       "  <thead>\n",
       "    <tr style=\"text-align: right;\">\n",
       "      <th></th>\n",
       "      <th>Lasso</th>\n",
       "    </tr>\n",
       "  </thead>\n",
       "  <tbody>\n",
       "    <tr>\n",
       "      <th>RMSE</th>\n",
       "      <td>9.114436</td>\n",
       "    </tr>\n",
       "    <tr>\n",
       "      <th>MSE</th>\n",
       "      <td>83.072949</td>\n",
       "    </tr>\n",
       "    <tr>\n",
       "      <th>MAE</th>\n",
       "      <td>6.952331</td>\n",
       "    </tr>\n",
       "    <tr>\n",
       "      <th>r2</th>\n",
       "      <td>0.942748</td>\n",
       "    </tr>\n",
       "  </tbody>\n",
       "</table>\n",
       "</div>"
      ],
      "text/plain": [
       "          Lasso\n",
       "RMSE   9.114436\n",
       "MSE   83.072949\n",
       "MAE    6.952331\n",
       "r2     0.942748"
      ]
     },
     "execution_count": 20,
     "metadata": {},
     "output_type": "execute_result"
    }
   ],
   "source": [
    "RMSE = np.sqrt(mean_squared_error(y_test, y_predict_ls)) # Calculating Root Mean Squared Error (RMSE)\n",
    "MSE = mean_squared_error(y_test, y_predict_ls) # Calculating Mean Squared Error (MSE)\n",
    "MAE = mean_absolute_error(y_test, y_predict_ls) # Calculating Mean Absolute Error (MAE)\n",
    "r2 = r2_score(y_test, y_predict_ls) # Calculating R-Squared (ranges between 0 & 1 - The higher the value, the better the model)\n",
    "\n",
    "Metrics_ls = [RMSE, MSE, MAE, r2]\n",
    "Metrics_ls = pd.DataFrame(Metrics_ls)\n",
    "Metrics_ls.index = [\"RMSE\", \"MSE\", \"MAE\", \"r2\"]\n",
    "Metrics_ls.columns = [\"Lasso\"]\n",
    "Metrics_ls"
   ]
  },
  {
   "cell_type": "markdown",
   "id": "151a5233",
   "metadata": {},
   "source": [
    "### Ridge Regression Model"
   ]
  },
  {
   "cell_type": "code",
   "execution_count": null,
   "id": "b7327ae0",
   "metadata": {},
   "outputs": [],
   "source": [
    "pipe_rr = Pipeline(steps=[('data_transformer', data_transformer),\n",
    "                           ('pipe_rr', Ridge(solver = 'saga', random_state = 1))])\n",
    "                           \n",
    "grid_rr = GridSearchCV(pipe_rr, param_grid = param_grid, n_jobs = -1)  \n",
    "grid_rr.fit(X_train, y_train);"
   ]
  },
  {
   "cell_type": "code",
   "execution_count": 22,
   "id": "441733bd",
   "metadata": {},
   "outputs": [],
   "source": [
    "y_predict_rr = grid_rr.predict(X_test)"
   ]
  },
  {
   "cell_type": "code",
   "execution_count": 23,
   "id": "04bb03ef",
   "metadata": {},
   "outputs": [
    {
     "data": {
      "image/png": "[encoded data removed]",
      "text/plain": [
       "<Figure size 432x288 with 1 Axes>"
      ]
     },
     "metadata": {
      "needs_background": "light"
     },
     "output_type": "display_data"
    }
   ],
   "source": [
    "sns.regplot(x=y_predict_rr, y=y_test, color='blue', marker = \"o\")\n",
    "plt.xlabel(\"Predicted Arrival Delay\")\n",
    "plt.ylabel(\"Actual Arrival Delay\")\n",
    "plt.title(\"Figure 5.3: Ridge Regression on Arrival Delay\")\n",
    "plt.show()"
   ]
  },
  {
   "cell_type": "code",
   "execution_count": 24,
   "id": "e6f0c69f",
   "metadata": {},
   "outputs": [
    {
     "data": {
      "text/plain": [
       "nan"
      ]
     },
     "execution_count": 24,
     "metadata": {},
     "output_type": "execute_result"
    }
   ],
   "source": [
    "grid_rr.best_score_"
   ]
  },
  {
   "cell_type": "code",
   "execution_count": 25,
   "id": "fdeab448",
   "metadata": {},
   "outputs": [
    {
     "data": {
      "text/plain": [
       "{'data_transformer__numerical__imputer__strategy': 'mean'}"
      ]
     },
     "execution_count": 25,
     "metadata": {},
     "output_type": "execute_result"
    }
   ],
   "source": [
    "grid_rr.best_params_"
   ]
  },
  {
   "cell_type": "code",
   "execution_count": 26,
   "id": "94e9f00b",
   "metadata": {},
   "outputs": [
    {
     "data": {
      "text/html": [
       "<div>\n",
       "<style scoped>\n",
       "    .dataframe tbody tr th:only-of-type {\n",
       "        vertical-align: middle;\n",
       "    }\n",
       "\n",
       "    .dataframe tbody tr th {\n",
       "        vertical-align: top;\n",
       "    }\n",
       "\n",
       "    .dataframe thead th {\n",
       "        text-align: right;\n",
       "    }\n",
       "</style>\n",
       "<table border=\"1\" class=\"dataframe\">\n",
       "  <thead>\n",
       "    <tr style=\"text-align: right;\">\n",
       "      <th></th>\n",
       "      <th>Ridge</th>\n",
       "    </tr>\n",
       "  </thead>\n",
       "  <tbody>\n",
       "    <tr>\n",
       "      <th>RMSE</th>\n",
       "      <td>8.507020</td>\n",
       "    </tr>\n",
       "    <tr>\n",
       "      <th>MSE</th>\n",
       "      <td>72.369390</td>\n",
       "    </tr>\n",
       "    <tr>\n",
       "      <th>MAE</th>\n",
       "      <td>6.508326</td>\n",
       "    </tr>\n",
       "    <tr>\n",
       "      <th>r2</th>\n",
       "      <td>0.950125</td>\n",
       "    </tr>\n",
       "  </tbody>\n",
       "</table>\n",
       "</div>"
      ],
      "text/plain": [
       "          Ridge\n",
       "RMSE   8.507020\n",
       "MSE   72.369390\n",
       "MAE    6.508326\n",
       "r2     0.950125"
      ]
     },
     "execution_count": 26,
     "metadata": {},
     "output_type": "execute_result"
    }
   ],
   "source": [
    "RMSE = np.sqrt(mean_squared_error(y_test, y_predict_rr)) # Calculating Root Mean Squared Error (RMSE)\n",
    "MSE = mean_squared_error(y_test, y_predict_rr) # Calculating Mean Squared Error (MSE)\n",
    "MAE = mean_absolute_error(y_test, y_predict_rr) # Calculating Mean Absolute Error (MAE)\n",
    "r2 = r2_score(y_test, y_predict_rr) # Calculating R-Squared (ranges between 0 & 1 - The higher the value, the better the model)\n",
    "\n",
    "Metrics_rr = [RMSE, MSE, MAE, r2]\n",
    "Metrics_rr = pd.DataFrame(Metrics_rr)\n",
    "Metrics_rr.index = [\"RMSE\", \"MSE\", \"MAE\", \"r2\"]\n",
    "Metrics_rr.columns = [\"Ridge\"]\n",
    "Metrics_rr"
   ]
  },
  {
   "cell_type": "code",
   "execution_count": 27,
   "id": "6e4e4ea1",
   "metadata": {},
   "outputs": [
    {
     "data": {
      "text/html": [
       "<div>\n",
       "<style scoped>\n",
       "    .dataframe tbody tr th:only-of-type {\n",
       "        vertical-align: middle;\n",
       "    }\n",
       "\n",
       "    .dataframe tbody tr th {\n",
       "        vertical-align: top;\n",
       "    }\n",
       "\n",
       "    .dataframe thead th {\n",
       "        text-align: right;\n",
       "    }\n",
       "</style>\n",
       "<table border=\"1\" class=\"dataframe\">\n",
       "  <thead>\n",
       "    <tr style=\"text-align: right;\">\n",
       "      <th></th>\n",
       "      <th>Linear</th>\n",
       "      <th>Lasso</th>\n",
       "      <th>Ridge</th>\n",
       "    </tr>\n",
       "  </thead>\n",
       "  <tbody>\n",
       "    <tr>\n",
       "      <th>RMSE</th>\n",
       "      <td>8.506990</td>\n",
       "      <td>9.114436</td>\n",
       "      <td>8.507020</td>\n",
       "    </tr>\n",
       "    <tr>\n",
       "      <th>MSE</th>\n",
       "      <td>72.368877</td>\n",
       "      <td>83.072949</td>\n",
       "      <td>72.369390</td>\n",
       "    </tr>\n",
       "    <tr>\n",
       "      <th>MAE</th>\n",
       "      <td>6.508281</td>\n",
       "      <td>6.952331</td>\n",
       "      <td>6.508326</td>\n",
       "    </tr>\n",
       "    <tr>\n",
       "      <th>r2</th>\n",
       "      <td>0.950125</td>\n",
       "      <td>0.942748</td>\n",
       "      <td>0.950125</td>\n",
       "    </tr>\n",
       "  </tbody>\n",
       "</table>\n",
       "</div>"
      ],
      "text/plain": [
       "         Linear      Lasso      Ridge\n",
       "RMSE   8.506990   9.114436   8.507020\n",
       "MSE   72.368877  83.072949  72.369390\n",
       "MAE    6.508281   6.952331   6.508326\n",
       "r2     0.950125   0.942748   0.950125"
      ]
     },
     "execution_count": 27,
     "metadata": {},
     "output_type": "execute_result"
    }
   ],
   "source": [
    "Metrics_compare = pd.concat([Metrics_lm, Metrics_ls, Metrics_rr], axis = 1)\n",
    "Metrics_compare"
   ]
  },
  {
   "cell_type": "markdown",
   "id": "62d55488",
   "metadata": {},
   "source": [
    "**Observations from table above**\n",
    "\n",
    "The table above shows the metrics used to evaluate the performance of the 3 models that we have constructed to predict arrival delays. The lower the Root Mean Square Error (RMSE), Mean Squared Error (MSE), & the Mean Absolute Error (MAE), the better the model is at being able to predict arrival delays. The higher the R Squared value (r2), the better the model is at being able to predict arrival delays. \n",
    "\n",
    "# Conclusion\n",
    "\n",
    "Thus, based on the R Squared values above, Linear & Ridge regression models are the best models in predicting arrival delays. However, since Ridge regression model has higher RMSE, MSE, & MAE values compared to the Linear regression model, **Linear regression model** is the **best model** in predicting arrival delay. "
   ]
  }
 ],
 "metadata": {
  "kernelspec": {
   "display_name": "Python 3",
   "language": "python",
   "name": "python3"
  },
  "language_info": {
   "codemirror_mode": {
    "name": "ipython",
    "version": 3
   },
   "file_extension": ".py",
   "mimetype": "text/x-python",
   "name": "python",
   "nbconvert_exporter": "python",
   "pygments_lexer": "ipython3",
   "version": "3.8.8"
  }
 },
 "nbformat": 4,
 "nbformat_minor": 5
}
