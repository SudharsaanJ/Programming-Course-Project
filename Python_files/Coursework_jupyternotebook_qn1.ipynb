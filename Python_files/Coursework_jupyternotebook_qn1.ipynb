{
 "cells": [
  {
   "cell_type": "markdown",
   "id": "adbd9983",
   "metadata": {},
   "source": [
    "# ST2195 Coursework question 1 \n",
    "\n",
    "### UOL Student Number 200549079"
   ]
  },
  {
   "cell_type": "markdown",
   "id": "a1e25b0f",
   "metadata": {},
   "source": [
    "# Importing & Loading Necessary Packages "
   ]
  },
  {
   "cell_type": "code",
   "execution_count": 1,
   "id": "03e17791",
   "metadata": {},
   "outputs": [],
   "source": [
    "import os\n",
    "import sqlite3\n",
    "import pandas as pd\n",
    "import matplotlib.pyplot as plt\n",
    "import seaborn as sns"
   ]
  },
  {
   "cell_type": "markdown",
   "id": "a556df89",
   "metadata": {},
   "source": [
    "# Working Directory"
   ]
  },
  {
   "cell_type": "code",
   "execution_count": 2,
   "id": "78668e3e",
   "metadata": {},
   "outputs": [
    {
     "data": {
      "text/plain": [
       "'C:\\\\Users\\\\Sudharsaan\\\\OneDrive\\\\SIM\\\\Year 2\\\\ST2195 Programming for Data Science\\\\Coursework\\\\Essential Harvard Dataverse Files'"
      ]
     },
     "execution_count": 2,
     "metadata": {},
     "output_type": "execute_result"
    }
   ],
   "source": [
    "# Input your own directory where the Harvard Dataverse files are located within the code below.\n",
    "os.chdir(\"C:\\\\Users\\\\Sudharsaan\\\\OneDrive\\\\SIM\\\\Year 2\\\\ST2195 Programming for Data Science\\\\Coursework\\\\Essential Harvard Dataverse Files\")\n",
    "os.getcwd()"
   ]
  },
  {
   "cell_type": "markdown",
   "id": "2d1f8c4c",
   "metadata": {},
   "source": [
    "# Creating airlinemain_py database"
   ]
  },
  {
   "cell_type": "code",
   "execution_count": 3,
   "id": "a3486118",
   "metadata": {},
   "outputs": [],
   "source": [
    "os.remove(\"airlinemain_py.db\")"
   ]
  },
  {
   "cell_type": "code",
   "execution_count": 4,
   "id": "ad093e90",
   "metadata": {},
   "outputs": [],
   "source": [
    "conn = sqlite3.connect(\"airlinemain_py.db\")"
   ]
  },
  {
   "cell_type": "markdown",
   "id": "a173061c",
   "metadata": {},
   "source": [
    "## Creating tables in database"
   ]
  },
  {
   "cell_type": "code",
   "execution_count": 5,
   "id": "846db3a5",
   "metadata": {},
   "outputs": [],
   "source": [
    "ontime2006 = pd.read_csv(\"2006.csv.bz2\")\n",
    "ontime2007 = pd.read_csv(\"2007.csv.bz2\")\n",
    "\n",
    "ontime2006.to_sql(\"ontime\", con = conn, index = False)\n",
    "\n",
    "conn.commit()"
   ]
  },
  {
   "cell_type": "code",
   "execution_count": 6,
   "id": "dc1ac604",
   "metadata": {},
   "outputs": [],
   "source": [
    "ontime2007.to_sql(\"ontime\", con = conn, index = False, if_exists = \"append\")\n",
    "conn.commit()"
   ]
  },
  {
   "cell_type": "code",
   "execution_count": 7,
   "id": "79f0346c",
   "metadata": {},
   "outputs": [],
   "source": [
    "planesdata = pd.read_csv(\"plane-data.csv\")\n",
    "planesdata.to_sql(\"planes\", conn, index = False)"
   ]
  },
  {
   "cell_type": "code",
   "execution_count": 8,
   "id": "f1a5a937",
   "metadata": {},
   "outputs": [],
   "source": [
    "carriers = pd.read_csv(\"carriers.csv\")\n",
    "carriers.to_sql(\"carriers\", conn, index = False)"
   ]
  },
  {
   "cell_type": "code",
   "execution_count": 9,
   "id": "051ffcf7",
   "metadata": {},
   "outputs": [],
   "source": [
    "airports = pd.read_csv(\"airports.csv\")\n",
    "airports.to_sql(\"airports\", conn, index = False)"
   ]
  },
  {
   "cell_type": "markdown",
   "id": "667d42e1",
   "metadata": {},
   "source": [
    "# Performing Query on question 1 of coursework"
   ]
  },
  {
   "cell_type": "markdown",
   "id": "48111344",
   "metadata": {},
   "source": [
    "The query on question 1 will be split into 3 parts. \n",
    "1. Analyse the best month of the year to fly to minimize delays.\n",
    "2. Analyse the best day of week to fly to minimize delays.\n",
    "3. Analyse the best time of day to fly to minimize delays. "
   ]
  },
  {
   "cell_type": "markdown",
   "id": "5cca8e76",
   "metadata": {},
   "source": [
    "## Analysing best month of year to fly to minimize delays"
   ]
  },
  {
   "cell_type": "code",
   "execution_count": 10,
   "id": "918eb8bb",
   "metadata": {},
   "outputs": [],
   "source": [
    "c = conn.cursor()"
   ]
  },
  {
   "cell_type": "code",
   "execution_count": 11,
   "id": "7e492180",
   "metadata": {},
   "outputs": [],
   "source": [
    "# Querying from airlinemain_py.db database to extract information regarding percentage of cancelled flights, percentage of \n",
    "# diverted flights, & percentage of delayed flights in each month for years 2006 & 2007 combined. \n",
    "q1a1 = c.execute('''\n",
    "                    SELECT Month, (AVG(Cancelled)*100), (AVG(Diverted)*100), ((CAST(SUM(CASE WHEN ArrDelay > 0 THEN 1 ELSE 0 END) AS FLOAT)/CAST(COUNT(*) AS FLOAT))*100)\n",
    "                    FROM ontime\n",
    "                    GROUP BY Month\n",
    "                    ORDER BY Month''').fetchall()"
   ]
  },
  {
   "cell_type": "code",
   "execution_count": 12,
   "id": "fcaf75c0",
   "metadata": {},
   "outputs": [
    {
     "data": {
      "text/html": [
       "<div>\n",
       "<style scoped>\n",
       "    .dataframe tbody tr th:only-of-type {\n",
       "        vertical-align: middle;\n",
       "    }\n",
       "\n",
       "    .dataframe tbody tr th {\n",
       "        vertical-align: top;\n",
       "    }\n",
       "\n",
       "    .dataframe thead th {\n",
       "        text-align: right;\n",
       "    }\n",
       "</style>\n",
       "<table border=\"1\" class=\"dataframe\">\n",
       "  <thead>\n",
       "    <tr style=\"text-align: right;\">\n",
       "      <th></th>\n",
       "      <th>Month</th>\n",
       "      <th>% of Cancelled flights</th>\n",
       "      <th>% of Diverted flights</th>\n",
       "      <th>% of Delayed flights</th>\n",
       "    </tr>\n",
       "  </thead>\n",
       "  <tbody>\n",
       "    <tr>\n",
       "      <th>0</th>\n",
       "      <td>1</td>\n",
       "      <td>2.125293</td>\n",
       "      <td>0.213660</td>\n",
       "      <td>43.187407</td>\n",
       "    </tr>\n",
       "    <tr>\n",
       "      <th>1</th>\n",
       "      <td>2</td>\n",
       "      <td>3.351230</td>\n",
       "      <td>0.234307</td>\n",
       "      <td>47.195380</td>\n",
       "    </tr>\n",
       "    <tr>\n",
       "      <th>2</th>\n",
       "      <td>3</td>\n",
       "      <td>1.965806</td>\n",
       "      <td>0.187074</td>\n",
       "      <td>45.493987</td>\n",
       "    </tr>\n",
       "    <tr>\n",
       "      <th>3</th>\n",
       "      <td>4</td>\n",
       "      <td>1.478501</td>\n",
       "      <td>0.185167</td>\n",
       "      <td>43.595036</td>\n",
       "    </tr>\n",
       "    <tr>\n",
       "      <th>4</th>\n",
       "      <td>5</td>\n",
       "      <td>1.125774</td>\n",
       "      <td>0.216925</td>\n",
       "      <td>43.122797</td>\n",
       "    </tr>\n",
       "    <tr>\n",
       "      <th>5</th>\n",
       "      <td>6</td>\n",
       "      <td>2.226386</td>\n",
       "      <td>0.326492</td>\n",
       "      <td>50.038001</td>\n",
       "    </tr>\n",
       "    <tr>\n",
       "      <th>6</th>\n",
       "      <td>7</td>\n",
       "      <td>1.909035</td>\n",
       "      <td>0.317214</td>\n",
       "      <td>48.541192</td>\n",
       "    </tr>\n",
       "    <tr>\n",
       "      <th>7</th>\n",
       "      <td>8</td>\n",
       "      <td>1.722138</td>\n",
       "      <td>0.286347</td>\n",
       "      <td>46.365827</td>\n",
       "    </tr>\n",
       "    <tr>\n",
       "      <th>8</th>\n",
       "      <td>9</td>\n",
       "      <td>1.388631</td>\n",
       "      <td>0.185550</td>\n",
       "      <td>40.552887</td>\n",
       "    </tr>\n",
       "    <tr>\n",
       "      <th>9</th>\n",
       "      <td>10</td>\n",
       "      <td>1.508082</td>\n",
       "      <td>0.179833</td>\n",
       "      <td>45.592288</td>\n",
       "    </tr>\n",
       "    <tr>\n",
       "      <th>10</th>\n",
       "      <td>11</td>\n",
       "      <td>1.329337</td>\n",
       "      <td>0.163680</td>\n",
       "      <td>41.993930</td>\n",
       "    </tr>\n",
       "    <tr>\n",
       "      <th>11</th>\n",
       "      <td>12</td>\n",
       "      <td>3.247772</td>\n",
       "      <td>0.238576</td>\n",
       "      <td>50.862542</td>\n",
       "    </tr>\n",
       "  </tbody>\n",
       "</table>\n",
       "</div>"
      ],
      "text/plain": [
       "    Month  % of Cancelled flights  % of Diverted flights  % of Delayed flights\n",
       "0       1                2.125293               0.213660             43.187407\n",
       "1       2                3.351230               0.234307             47.195380\n",
       "2       3                1.965806               0.187074             45.493987\n",
       "3       4                1.478501               0.185167             43.595036\n",
       "4       5                1.125774               0.216925             43.122797\n",
       "5       6                2.226386               0.326492             50.038001\n",
       "6       7                1.909035               0.317214             48.541192\n",
       "7       8                1.722138               0.286347             46.365827\n",
       "8       9                1.388631               0.185550             40.552887\n",
       "9      10                1.508082               0.179833             45.592288\n",
       "10     11                1.329337               0.163680             41.993930\n",
       "11     12                3.247772               0.238576             50.862542"
      ]
     },
     "execution_count": 12,
     "metadata": {},
     "output_type": "execute_result"
    }
   ],
   "source": [
    "q1a1 = pd.DataFrame(q1a1)\n",
    "q1a1 = q1a1.rename(columns={0: \"Month\", 1 : \"% of Cancelled flights\", 2 : \"% of Diverted flights\", 3 : \"% of Delayed flights\"})\n",
    "q1a1"
   ]
  },
  {
   "cell_type": "code",
   "execution_count": 13,
   "id": "86a9055a",
   "metadata": {
    "scrolled": true
   },
   "outputs": [
    {
     "data": {
      "image/png": "[encoded data removed]",
      "text/plain": [
       "<Figure size 1440x288 with 3 Axes>"
      ]
     },
     "metadata": {
      "needs_background": "light"
     },
     "output_type": "display_data"
    }
   ],
   "source": [
    "Month_names = [\"Jan\", \"Feb\", \"Mar\", \"Apr\", \"May\", \"Jun\", \"Jul\", \"Aug\", \"Sep\", \"Oct\", \"Nov\", \"Dec\"]\n",
    "\n",
    "fig, ax = plt.subplots(1, 3, figsize = (20, 4))\n",
    "\n",
    "# Creating a plot for the percentage of cancelled flights in each month in 2006 & 2007 combined. \n",
    "q1a1[[\"Month\",\"% of Cancelled flights\"]].plot.bar(\"Month\", \"% of Cancelled flights\", ax = ax[0], alpha = 0.8, \n",
    "                                                  legend = False, rot = 0)\n",
    "\n",
    "ax[0].set_xticklabels(Month_names)\n",
    "ax[0].set_xlabel(\"Months\")\n",
    "ax[0].set_ylabel(\"Cancelled flights percentage\")\n",
    "ax[0].title.set_text(\"Figure 1.1a: Cancelled flights % by Month\")\n",
    "\n",
    "# Creating a plot for the percentage of diverted flights in each month in 2006 & 2007 combined.\n",
    "q1a1[[\"Month\",\"% of Diverted flights\"]].plot.bar(\"Month\", \"% of Diverted flights\", ax = ax[1], alpha = 0.75, \n",
    "                                                 color = \"mediumseagreen\", legend = False, rot = 0)\n",
    "\n",
    "ax[1].set_xticklabels(Month_names)\n",
    "ax[1].set_xlabel(\"Months\")\n",
    "ax[1].set_ylabel(\"Diverted flights percentage\")\n",
    "ax[1].title.set_text(\"Figure 1.1b: Diverted flights % by Month\")\n",
    "\n",
    "# Creating a plot for the percentage of delayed flights in each month in 2006 & 2007 combined. \n",
    "q1a1[[\"Month\",\"% of Delayed flights\"]].plot.bar(\"Month\", \"% of Delayed flights\", ax = ax[2], alpha = 0.6, \n",
    "                                                color = \"mediumpurple\", legend = False, rot = 0)\n",
    "\n",
    "ax[2].set_xticklabels(Month_names)\n",
    "ax[2].set_xlabel(\"Months\")\n",
    "ax[2].set_ylabel(\"Delayed flights percentage\")\n",
    "ax[2].title.set_text(\"Figure 1.1c: Delayed flights % by Month\")"
   ]
  },
  {
   "cell_type": "markdown",
   "id": "adcb8572",
   "metadata": {},
   "source": [
    "**Observations from results above**\n",
    "\n",
    "The **percentage of cancelled flights** is lowest in **May** (1.13%), followed by November (1.33%) & September (1.39%). The **percentage of diverted flights** is lowest in **November** (0.16%), followed by October (0.18%) & September (0.19%). The **percentage of delayed flights** is lowest in **September** (40.55%), followed by November (42.00%) & May (43.12%). "
   ]
  },
  {
   "cell_type": "code",
   "execution_count": 14,
   "id": "86875863",
   "metadata": {},
   "outputs": [],
   "source": [
    "# Querying from airlinemain_py.db database to extract information regarding average arrival delay in each month for years \n",
    "# 2006 & 2007.\n",
    "q1a2 = c.execute('''\n",
    "                    SELECT Month, AVG(ArrDelay)\n",
    "                    FROM ontime\n",
    "                    WHERE Cancelled = 0 AND Diverted = 0\n",
    "                    GROUP BY Month\n",
    "                    ORDER BY Month''').fetchall()"
   ]
  },
  {
   "cell_type": "code",
   "execution_count": 15,
   "id": "89b2ccd1",
   "metadata": {},
   "outputs": [
    {
     "data": {
      "text/html": [
       "<div>\n",
       "<style scoped>\n",
       "    .dataframe tbody tr th:only-of-type {\n",
       "        vertical-align: middle;\n",
       "    }\n",
       "\n",
       "    .dataframe tbody tr th {\n",
       "        vertical-align: top;\n",
       "    }\n",
       "\n",
       "    .dataframe thead th {\n",
       "        text-align: right;\n",
       "    }\n",
       "</style>\n",
       "<table border=\"1\" class=\"dataframe\">\n",
       "  <thead>\n",
       "    <tr style=\"text-align: right;\">\n",
       "      <th></th>\n",
       "      <th>Month</th>\n",
       "      <th>Avg Arrival Delay (mins)</th>\n",
       "    </tr>\n",
       "  </thead>\n",
       "  <tbody>\n",
       "    <tr>\n",
       "      <th>0</th>\n",
       "      <td>1</td>\n",
       "      <td>7.447226</td>\n",
       "    </tr>\n",
       "    <tr>\n",
       "      <th>1</th>\n",
       "      <td>2</td>\n",
       "      <td>10.498526</td>\n",
       "    </tr>\n",
       "    <tr>\n",
       "      <th>2</th>\n",
       "      <td>3</td>\n",
       "      <td>9.027283</td>\n",
       "    </tr>\n",
       "    <tr>\n",
       "      <th>3</th>\n",
       "      <td>4</td>\n",
       "      <td>7.491780</td>\n",
       "    </tr>\n",
       "    <tr>\n",
       "      <th>4</th>\n",
       "      <td>5</td>\n",
       "      <td>6.964305</td>\n",
       "    </tr>\n",
       "    <tr>\n",
       "      <th>5</th>\n",
       "      <td>6</td>\n",
       "      <td>14.153010</td>\n",
       "    </tr>\n",
       "    <tr>\n",
       "      <th>6</th>\n",
       "      <td>7</td>\n",
       "      <td>12.736940</td>\n",
       "    </tr>\n",
       "    <tr>\n",
       "      <th>7</th>\n",
       "      <td>8</td>\n",
       "      <td>10.662703</td>\n",
       "    </tr>\n",
       "    <tr>\n",
       "      <th>8</th>\n",
       "      <td>9</td>\n",
       "      <td>6.034441</td>\n",
       "    </tr>\n",
       "    <tr>\n",
       "      <th>9</th>\n",
       "      <td>10</td>\n",
       "      <td>8.559212</td>\n",
       "    </tr>\n",
       "    <tr>\n",
       "      <th>10</th>\n",
       "      <td>11</td>\n",
       "      <td>6.002432</td>\n",
       "    </tr>\n",
       "    <tr>\n",
       "      <th>11</th>\n",
       "      <td>12</td>\n",
       "      <td>13.709167</td>\n",
       "    </tr>\n",
       "  </tbody>\n",
       "</table>\n",
       "</div>"
      ],
      "text/plain": [
       "    Month  Avg Arrival Delay (mins)\n",
       "0       1                  7.447226\n",
       "1       2                 10.498526\n",
       "2       3                  9.027283\n",
       "3       4                  7.491780\n",
       "4       5                  6.964305\n",
       "5       6                 14.153010\n",
       "6       7                 12.736940\n",
       "7       8                 10.662703\n",
       "8       9                  6.034441\n",
       "9      10                  8.559212\n",
       "10     11                  6.002432\n",
       "11     12                 13.709167"
      ]
     },
     "execution_count": 15,
     "metadata": {},
     "output_type": "execute_result"
    }
   ],
   "source": [
    "q1a2 = pd.DataFrame(q1a2)\n",
    "q1a2 = q1a2.rename(columns={0: \"Month\", 1 : \"Avg Arrival Delay (mins)\"})\n",
    "q1a2"
   ]
  },
  {
   "cell_type": "code",
   "execution_count": 16,
   "id": "122c5ba4",
   "metadata": {},
   "outputs": [
    {
     "data": {
      "image/png": "[encoded data removed]",
      "text/plain": [
       "<Figure size 432x288 with 1 Axes>"
      ]
     },
     "metadata": {
      "needs_background": "light"
     },
     "output_type": "display_data"
    }
   ],
   "source": [
    "fig, ax = plt.subplots()\n",
    "\n",
    "# Creating a plot for the average arrival delay in each month in 2006 & 2007 combined.\n",
    "q1a2[[\"Month\",\"Avg Arrival Delay (mins)\"]].plot.bar(\"Month\", \"Avg Arrival Delay (mins)\", ax = ax, alpha = 0.5, \n",
    "                                                    legend = False, rot = 0, color = \"firebrick\")\n",
    "\n",
    "ax.set_xticklabels(Month_names)\n",
    "ax.set_xlabel(\"Months\")\n",
    "ax.set_ylabel(\"Average Arrival Delay in Mins\")\n",
    "ax.title.set_text(\"Figure 1.1d: Average Arrival Delay by Month\")"
   ]
  },
  {
   "cell_type": "markdown",
   "id": "eca72a0b",
   "metadata": {},
   "source": [
    "**Observations from results above**\n",
    "\n",
    "The month with the **lowest average arrival delay** is **November** (6.00 mins), followed by September (6.03 mins) & May (6.96 mins). \n",
    "\n",
    "**Overall decision on best month to fly**\n",
    "\n",
    "Since the percentage of cancelled & diverted flights are extremely low, we shall not take them into consideration for choosing best month to fly. The main determinants for the best month to fly would be the percentage of delayed flights & the average arrival delay in each month. From the results above, **September** & **November** are the **best months** to fly as the percentage of delayed flights & the average arrival delay is lowest in those months. The values with respect to both Months are very similar & thus we do not have a clear answer regarding the best month to fly. Thus, we choose both months September & November as the best months to fly.  "
   ]
  },
  {
   "cell_type": "markdown",
   "id": "58c8b4ec",
   "metadata": {},
   "source": [
    "## Analysing best day of week to fly to minimize delays"
   ]
  },
  {
   "cell_type": "code",
   "execution_count": 17,
   "id": "4bbdab44",
   "metadata": {},
   "outputs": [],
   "source": [
    "# Querying from airlinemain_py.db database to extract information regarding percentage of cancelled flights, percentage of \n",
    "# diverted flights, & percentage of delayed flights by day of week for years 2006 & 2007 combined. \n",
    "q1b1 = c.execute('''\n",
    "                    SELECT DayOfWeek, (AVG(Cancelled)*100), (AVG(Diverted)*100), ((CAST(SUM(CASE WHEN ArrDelay > 0 THEN 1 ELSE 0 END) AS FLOAT)/CAST(COUNT(*) AS FLOAT))*100)\n",
    "                    FROM ontime\n",
    "                    GROUP BY DayOfWeek\n",
    "                    ORDER BY DayOfWeek''').fetchall()"
   ]
  },
  {
   "cell_type": "code",
   "execution_count": 18,
   "id": "8fd67413",
   "metadata": {},
   "outputs": [
    {
     "data": {
      "text/html": [
       "<div>\n",
       "<style scoped>\n",
       "    .dataframe tbody tr th:only-of-type {\n",
       "        vertical-align: middle;\n",
       "    }\n",
       "\n",
       "    .dataframe tbody tr th {\n",
       "        vertical-align: top;\n",
       "    }\n",
       "\n",
       "    .dataframe thead th {\n",
       "        text-align: right;\n",
       "    }\n",
       "</style>\n",
       "<table border=\"1\" class=\"dataframe\">\n",
       "  <thead>\n",
       "    <tr style=\"text-align: right;\">\n",
       "      <th></th>\n",
       "      <th>Day of Week</th>\n",
       "      <th>% of Cancelled flights</th>\n",
       "      <th>% of Diverted flights</th>\n",
       "      <th>% of Delayed flights</th>\n",
       "    </tr>\n",
       "  </thead>\n",
       "  <tbody>\n",
       "    <tr>\n",
       "      <th>0</th>\n",
       "      <td>1</td>\n",
       "      <td>1.846401</td>\n",
       "      <td>0.224667</td>\n",
       "      <td>45.835000</td>\n",
       "    </tr>\n",
       "    <tr>\n",
       "      <th>1</th>\n",
       "      <td>2</td>\n",
       "      <td>1.968434</td>\n",
       "      <td>0.215043</td>\n",
       "      <td>42.339930</td>\n",
       "    </tr>\n",
       "    <tr>\n",
       "      <th>2</th>\n",
       "      <td>3</td>\n",
       "      <td>2.097044</td>\n",
       "      <td>0.231118</td>\n",
       "      <td>44.630760</td>\n",
       "    </tr>\n",
       "    <tr>\n",
       "      <th>3</th>\n",
       "      <td>4</td>\n",
       "      <td>2.186139</td>\n",
       "      <td>0.252105</td>\n",
       "      <td>48.900793</td>\n",
       "    </tr>\n",
       "    <tr>\n",
       "      <th>4</th>\n",
       "      <td>5</td>\n",
       "      <td>2.119451</td>\n",
       "      <td>0.247603</td>\n",
       "      <td>50.436757</td>\n",
       "    </tr>\n",
       "    <tr>\n",
       "      <th>5</th>\n",
       "      <td>6</td>\n",
       "      <td>1.490614</td>\n",
       "      <td>0.191558</td>\n",
       "      <td>40.577150</td>\n",
       "    </tr>\n",
       "    <tr>\n",
       "      <th>6</th>\n",
       "      <td>7</td>\n",
       "      <td>1.778258</td>\n",
       "      <td>0.232546</td>\n",
       "      <td>45.427287</td>\n",
       "    </tr>\n",
       "  </tbody>\n",
       "</table>\n",
       "</div>"
      ],
      "text/plain": [
       "   Day of Week  % of Cancelled flights  % of Diverted flights  \\\n",
       "0            1                1.846401               0.224667   \n",
       "1            2                1.968434               0.215043   \n",
       "2            3                2.097044               0.231118   \n",
       "3            4                2.186139               0.252105   \n",
       "4            5                2.119451               0.247603   \n",
       "5            6                1.490614               0.191558   \n",
       "6            7                1.778258               0.232546   \n",
       "\n",
       "   % of Delayed flights  \n",
       "0             45.835000  \n",
       "1             42.339930  \n",
       "2             44.630760  \n",
       "3             48.900793  \n",
       "4             50.436757  \n",
       "5             40.577150  \n",
       "6             45.427287  "
      ]
     },
     "execution_count": 18,
     "metadata": {},
     "output_type": "execute_result"
    }
   ],
   "source": [
    "q1b1 = pd.DataFrame(q1b1)\n",
    "q1b1 = q1b1.rename(columns={0: \"Day of Week\", 1 : \"% of Cancelled flights\", 2 : \"% of Diverted flights\", 3 : \"% of Delayed flights\"})\n",
    "q1b1"
   ]
  },
  {
   "cell_type": "code",
   "execution_count": 19,
   "id": "1a4e36de",
   "metadata": {},
   "outputs": [
    {
     "data": {
      "image/png": "[encoded data removed]",
      "text/plain": [
       "<Figure size 1440x288 with 3 Axes>"
      ]
     },
     "metadata": {
      "needs_background": "light"
     },
     "output_type": "display_data"
    }
   ],
   "source": [
    "Day_of_week = [\"Mon\", \"Tue\", \"Wed\", \"Thu\", \"Fri\", \"Sat\", \"Sun\"]\n",
    "\n",
    "fig, ax = plt.subplots(1, 3, figsize = (20, 4))\n",
    "\n",
    "q1b1[[\"Day of Week\", \"% of Cancelled flights\"]].plot.bar(\"Day of Week\", \"% of Cancelled flights\", ax = ax[0], alpha = 0.8, legend = False, rot = 0)\n",
    "\n",
    "# Creating a plot for the percentage of cancelled flights by day of week in 2006 & 2007 combined. \n",
    "ax[0].set_xticklabels(Day_of_week)\n",
    "ax[0].set_xlabel(\"Day of Week\")\n",
    "ax[0].set_ylabel(\"Cancelled flights percentage\")\n",
    "ax[0].title.set_text(\"Figure 1.2a: Cancelled flights % by Day of Week\")\n",
    "\n",
    "# Creating a plot for the percentage of diverted flights by day of week in 2006 & 2007 combined. \n",
    "q1b1[[\"Day of Week\", \"% of Diverted flights\"]].plot.bar(\"Day of Week\", \"% of Diverted flights\", ax = ax[1], alpha = 0.75, color = \"mediumseagreen\", legend = False, rot = 0)\n",
    "\n",
    "ax[1].set_xticklabels(Day_of_week)\n",
    "ax[1].set_xlabel(\"Day of Week\")\n",
    "ax[1].set_ylabel(\"Diverted flights percentage\")\n",
    "ax[1].title.set_text(\"Figure 1.2b: Diverted flights % by Day of Week\")\n",
    "\n",
    "# Creating a plot for the percentage of delayed flights by day of week in 2006 & 2007 combined. \n",
    "q1b1[[\"Day of Week\", \"% of Delayed flights\"]].plot.bar(\"Day of Week\", \"% of Delayed flights\", ax = ax[2], alpha = 0.6, color = \"mediumpurple\", legend = False, rot = 0)\n",
    "\n",
    "ax[2].set_xticklabels(Day_of_week)\n",
    "ax[2].set_xlabel(\"Day of Week\")\n",
    "ax[2].set_ylabel(\"Delayed flights percentage\")\n",
    "ax[2].title.set_text(\"Figure 1.2c: Delayed flights % by Day of Week\")"
   ]
  },
  {
   "cell_type": "markdown",
   "id": "bc8a323b",
   "metadata": {},
   "source": [
    "**Observations from results above**\n",
    "\n",
    "The **percentage of cancelled flights** is lowest in **Saturday** (1.49%), followed by Sunday (1.78%) & Monday (1.84%). The **percentage of diverted flights** is lowest in **Saturday** (0.19%), followed by Tuesday (0.22%) & Monday (0.22%). The **percentage of delayed flights** is lowest in **Saturday** (40.58%), followed by Tuesday (42.34%) & Wednesday (44.63%). "
   ]
  },
  {
   "cell_type": "code",
   "execution_count": 20,
   "id": "d427ec09",
   "metadata": {},
   "outputs": [],
   "source": [
    "# Querying from airlinemain_py.db database to extract information regarding average arrival delay by day of week for years \n",
    "# 2006 & 2007.\n",
    "q1b2 = c.execute('''\n",
    "                    SELECT DayOfWeek, AVG(ArrDelay)\n",
    "                    FROM ontime\n",
    "                    WHERE Cancelled = 0 AND Diverted = 0\n",
    "                    GROUP BY DayOfWeek\n",
    "                    ORDER BY DayOfWeek''').fetchall()"
   ]
  },
  {
   "cell_type": "code",
   "execution_count": 21,
   "id": "1fd04ceb",
   "metadata": {},
   "outputs": [
    {
     "data": {
      "text/html": [
       "<div>\n",
       "<style scoped>\n",
       "    .dataframe tbody tr th:only-of-type {\n",
       "        vertical-align: middle;\n",
       "    }\n",
       "\n",
       "    .dataframe tbody tr th {\n",
       "        vertical-align: top;\n",
       "    }\n",
       "\n",
       "    .dataframe thead th {\n",
       "        text-align: right;\n",
       "    }\n",
       "</style>\n",
       "<table border=\"1\" class=\"dataframe\">\n",
       "  <thead>\n",
       "    <tr style=\"text-align: right;\">\n",
       "      <th></th>\n",
       "      <th>Day of Week</th>\n",
       "      <th>Avg Arrival Delay (mins)</th>\n",
       "    </tr>\n",
       "  </thead>\n",
       "  <tbody>\n",
       "    <tr>\n",
       "      <th>0</th>\n",
       "      <td>1</td>\n",
       "      <td>9.701637</td>\n",
       "    </tr>\n",
       "    <tr>\n",
       "      <th>1</th>\n",
       "      <td>2</td>\n",
       "      <td>7.248411</td>\n",
       "    </tr>\n",
       "    <tr>\n",
       "      <th>2</th>\n",
       "      <td>3</td>\n",
       "      <td>8.987954</td>\n",
       "    </tr>\n",
       "    <tr>\n",
       "      <th>3</th>\n",
       "      <td>4</td>\n",
       "      <td>12.141524</td>\n",
       "    </tr>\n",
       "    <tr>\n",
       "      <th>4</th>\n",
       "      <td>5</td>\n",
       "      <td>12.701676</td>\n",
       "    </tr>\n",
       "    <tr>\n",
       "      <th>5</th>\n",
       "      <td>6</td>\n",
       "      <td>5.513355</td>\n",
       "    </tr>\n",
       "    <tr>\n",
       "      <th>6</th>\n",
       "      <td>7</td>\n",
       "      <td>9.247222</td>\n",
       "    </tr>\n",
       "  </tbody>\n",
       "</table>\n",
       "</div>"
      ],
      "text/plain": [
       "   Day of Week  Avg Arrival Delay (mins)\n",
       "0            1                  9.701637\n",
       "1            2                  7.248411\n",
       "2            3                  8.987954\n",
       "3            4                 12.141524\n",
       "4            5                 12.701676\n",
       "5            6                  5.513355\n",
       "6            7                  9.247222"
      ]
     },
     "execution_count": 21,
     "metadata": {},
     "output_type": "execute_result"
    }
   ],
   "source": [
    "q1b2 = pd.DataFrame(q1b2)\n",
    "q1b2 = q1b2.rename(columns={0: \"Day of Week\", 1 : \"Avg Arrival Delay (mins)\"})\n",
    "q1b2"
   ]
  },
  {
   "cell_type": "code",
   "execution_count": 22,
   "id": "7a428759",
   "metadata": {},
   "outputs": [
    {
     "data": {
      "image/png": "[encoded data removed]",
      "text/plain": [
       "<Figure size 432x288 with 1 Axes>"
      ]
     },
     "metadata": {
      "needs_background": "light"
     },
     "output_type": "display_data"
    }
   ],
   "source": [
    "fig, ax = plt.subplots()\n",
    "\n",
    "# Creating a plot for the average arrival delay by day of week in 2006 & 2007 combined.\n",
    "q1b2.plot.bar(\"Day of Week\", \"Avg Arrival Delay (mins)\", ax = ax, alpha = 0.5, legend = False, rot = 0, color = \"firebrick\")\n",
    "\n",
    "ax.set_xticklabels(Day_of_week)\n",
    "ax.set_xlabel(\"Day of Week\")\n",
    "ax.set_ylabel(\"Average Arrival Delay in Mins\")\n",
    "ax.title.set_text(\"Figure 1.2d: Average Arrival Delay by Day of Week\")"
   ]
  },
  {
   "cell_type": "markdown",
   "id": "9fdf981e",
   "metadata": {},
   "source": [
    "**Observations from results above**\n",
    "\n",
    "The day of week with the **lowest average arrival delay** is **Saturday** (5.51 mins), followed by Tuesday (7.25 mins) & Wednesday (8.99 mins). \n",
    "\n",
    "**Overall decision on best day of week to fly**\n",
    "\n",
    "Once again, since the percentage of cancelled & diverted flights are extremely low, we shall not take them into consideration for choosing best day of week to fly. The main determinants for the best day of week to fly would be the percentage of delayed flights & the average arrival delay by day of week. From the results above, **Saturday** is the **best day of week** to fly as the percentage of delayed flights & the average arrival delay is lowest in Saturday compared to other days of the week. Even when taking percentage of cancelled & diverted flights into consideration, Saturday remains to have the lowest percentage which sets it as the best day of the week to fly. "
   ]
  },
  {
   "cell_type": "markdown",
   "id": "c94db371",
   "metadata": {},
   "source": [
    "## Analysing best time of day to fly to minimize delays\n",
    "\n",
    "### Additional Information\n",
    "\n",
    "We partition the time of day by **12**, **2-hour time intervals**, as the code below shows that the average time for flights to travel from one location to another is **102.83 mins** which is approximately 1 hour & 40 mins. Thus, it is appropriate to use 2-hour time intervals for the analysis."
   ]
  },
  {
   "cell_type": "code",
   "execution_count": 23,
   "id": "0d92055e",
   "metadata": {},
   "outputs": [
    {
     "data": {
      "text/html": [
       "<div>\n",
       "<style scoped>\n",
       "    .dataframe tbody tr th:only-of-type {\n",
       "        vertical-align: middle;\n",
       "    }\n",
       "\n",
       "    .dataframe tbody tr th {\n",
       "        vertical-align: top;\n",
       "    }\n",
       "\n",
       "    .dataframe thead th {\n",
       "        text-align: right;\n",
       "    }\n",
       "</style>\n",
       "<table border=\"1\" class=\"dataframe\">\n",
       "  <thead>\n",
       "    <tr style=\"text-align: right;\">\n",
       "      <th></th>\n",
       "      <th>Average Flight Time</th>\n",
       "    </tr>\n",
       "  </thead>\n",
       "  <tbody>\n",
       "    <tr>\n",
       "      <th>0</th>\n",
       "      <td>102.834872</td>\n",
       "    </tr>\n",
       "  </tbody>\n",
       "</table>\n",
       "</div>"
      ],
      "text/plain": [
       "   Average Flight Time\n",
       "0           102.834872"
      ]
     },
     "execution_count": 23,
     "metadata": {},
     "output_type": "execute_result"
    }
   ],
   "source": [
    "# Determining the average time it takes for flights to travel from one location to another so as to choose an appropriate \n",
    "# time interval to partition 24 hours in a day. \n",
    "q1c0 = c.execute('''\n",
    "                    SELECT AVG(Airtime) as Avg_Flight_Travel_Time\n",
    "                    FROM ontime\n",
    "                    WHERE Cancelled = 0''').fetchall()\n",
    "\n",
    "q1c0 = pd.DataFrame(q1c0)\n",
    "q1c0 = q1c0.rename(columns={0: \"Average Flight Time\"})\n",
    "q1c0"
   ]
  },
  {
   "cell_type": "code",
   "execution_count": 24,
   "id": "edac575c",
   "metadata": {},
   "outputs": [],
   "source": [
    "# Querying from airlinemain_py.db database to extract information regarding percentage of cancelled flights, percentage of \n",
    "# diverted flights, & percentage of delayed flights by time of day for years 2006 & 2007 combined. \n",
    "q1c1 = c.execute('''\n",
    "                    SELECT (AVG(Cancelled)*100), (AVG(Diverted)*100), ((CAST(SUM(CASE WHEN ArrDelay > 0 THEN 1 ELSE 0 END) AS FLOAT)/CAST(COUNT(*) AS FLOAT))*100),\n",
    "                    CASE WHEN CRSDepTime BETWEEN 0000 AND 0159 THEN '0000 to 0159'\n",
    "                         WHEN CRSDepTime BETWEEN 0200 AND 0359 THEN '0200 to 0359'\n",
    "                         WHEN CRSDepTime BETWEEN 0400 AND 0559 THEN '0400 to 0559'\n",
    "                         WHEN CRSDepTime BETWEEN 0600 AND 0759 THEN '0600 to 0759'\n",
    "                         WHEN CRSDepTime BETWEEN 0800 AND 0959 THEN '0800 to 0959'\n",
    "                         WHEN CRSDepTime BETWEEN 1000 AND 1159 THEN '1000 to 1159'\n",
    "                         WHEN CRSDepTime BETWEEN 1200 AND 1359 THEN '1200 to 1359'\n",
    "                         WHEN CRSDepTime BETWEEN 1400 AND 1559 THEN '1400 to 1559'\n",
    "                         WHEN CRSDepTime BETWEEN 1600 AND 1759 THEN '1600 to 1759'\n",
    "                         WHEN CRSDepTime BETWEEN 1800 AND 1959 THEN '1800 to 1959'\n",
    "                         WHEN CRSDepTime BETWEEN 2000 AND 2159 THEN '2000 to 2159'\n",
    "                         WHEN CRSDepTime BETWEEN 2200 AND 2359 THEN '2200 to 2359'\n",
    "                         END AS TimeFrame\n",
    "                    FROM ontime\n",
    "                    GROUP BY CASE WHEN CRSDepTime BETWEEN 0000 AND 0159 THEN '0000 to 0159'\n",
    "                                  WHEN CRSDepTime BETWEEN 0200 AND 0359 THEN '0200 to 0359'\n",
    "                                  WHEN CRSDepTime BETWEEN 0400 AND 0559 THEN '0400 to 0559'\n",
    "                                  WHEN CRSDepTime BETWEEN 0600 AND 0759 THEN '0600 to 0759'\n",
    "                                  WHEN CRSDepTime BETWEEN 0800 AND 0959 THEN '0800 to 0959'\n",
    "                                  WHEN CRSDepTime BETWEEN 1000 AND 1159 THEN '1000 to 1159'\n",
    "                                  WHEN CRSDepTime BETWEEN 1200 AND 1359 THEN '1200 to 1359'\n",
    "                                  WHEN CRSDepTime BETWEEN 1400 AND 1559 THEN '1400 to 1559'\n",
    "                                  WHEN CRSDepTime BETWEEN 1600 AND 1759 THEN '1600 to 1759'\n",
    "                                  WHEN CRSDepTime BETWEEN 1800 AND 1959 THEN '1800 to 1959'\n",
    "                                  WHEN CRSDepTime BETWEEN 2000 AND 2159 THEN '2000 to 2159'\n",
    "                                  WHEN CRSDepTime BETWEEN 2200 AND 2359 THEN '2200 to 2359'\n",
    "                                  END\n",
    "                    ORDER BY TimeFrame''').fetchall()"
   ]
  },
  {
   "cell_type": "code",
   "execution_count": 25,
   "id": "26632ec1",
   "metadata": {},
   "outputs": [
    {
     "data": {
      "text/html": [
       "<div>\n",
       "<style scoped>\n",
       "    .dataframe tbody tr th:only-of-type {\n",
       "        vertical-align: middle;\n",
       "    }\n",
       "\n",
       "    .dataframe tbody tr th {\n",
       "        vertical-align: top;\n",
       "    }\n",
       "\n",
       "    .dataframe thead th {\n",
       "        text-align: right;\n",
       "    }\n",
       "</style>\n",
       "<table border=\"1\" class=\"dataframe\">\n",
       "  <thead>\n",
       "    <tr style=\"text-align: right;\">\n",
       "      <th></th>\n",
       "      <th>Time interval</th>\n",
       "      <th>% of Cancelled flights</th>\n",
       "      <th>% of Diverted flights</th>\n",
       "      <th>% of Delayed flights</th>\n",
       "    </tr>\n",
       "  </thead>\n",
       "  <tbody>\n",
       "    <tr>\n",
       "      <th>0</th>\n",
       "      <td>0000 to 0159</td>\n",
       "      <td>0.704148</td>\n",
       "      <td>0.138641</td>\n",
       "      <td>41.446240</td>\n",
       "    </tr>\n",
       "    <tr>\n",
       "      <th>1</th>\n",
       "      <td>0200 to 0359</td>\n",
       "      <td>0.949743</td>\n",
       "      <td>0.079145</td>\n",
       "      <td>40.522359</td>\n",
       "    </tr>\n",
       "    <tr>\n",
       "      <th>2</th>\n",
       "      <td>0400 to 0559</td>\n",
       "      <td>2.021723</td>\n",
       "      <td>0.264618</td>\n",
       "      <td>31.347778</td>\n",
       "    </tr>\n",
       "    <tr>\n",
       "      <th>3</th>\n",
       "      <td>0600 to 0759</td>\n",
       "      <td>1.731236</td>\n",
       "      <td>0.238205</td>\n",
       "      <td>34.295530</td>\n",
       "    </tr>\n",
       "    <tr>\n",
       "      <th>4</th>\n",
       "      <td>0800 to 0959</td>\n",
       "      <td>1.639799</td>\n",
       "      <td>0.181882</td>\n",
       "      <td>39.584104</td>\n",
       "    </tr>\n",
       "    <tr>\n",
       "      <th>5</th>\n",
       "      <td>1000 to 1159</td>\n",
       "      <td>1.667328</td>\n",
       "      <td>0.215628</td>\n",
       "      <td>42.961064</td>\n",
       "    </tr>\n",
       "    <tr>\n",
       "      <th>6</th>\n",
       "      <td>1200 to 1359</td>\n",
       "      <td>1.761302</td>\n",
       "      <td>0.260658</td>\n",
       "      <td>46.077362</td>\n",
       "    </tr>\n",
       "    <tr>\n",
       "      <th>7</th>\n",
       "      <td>1400 to 1559</td>\n",
       "      <td>2.019878</td>\n",
       "      <td>0.278768</td>\n",
       "      <td>49.425974</td>\n",
       "    </tr>\n",
       "    <tr>\n",
       "      <th>8</th>\n",
       "      <td>1600 to 1759</td>\n",
       "      <td>2.442924</td>\n",
       "      <td>0.252030</td>\n",
       "      <td>51.871674</td>\n",
       "    </tr>\n",
       "    <tr>\n",
       "      <th>9</th>\n",
       "      <td>1800 to 1959</td>\n",
       "      <td>2.411165</td>\n",
       "      <td>0.208090</td>\n",
       "      <td>52.541861</td>\n",
       "    </tr>\n",
       "    <tr>\n",
       "      <th>10</th>\n",
       "      <td>2000 to 2159</td>\n",
       "      <td>1.986829</td>\n",
       "      <td>0.175189</td>\n",
       "      <td>52.973069</td>\n",
       "    </tr>\n",
       "    <tr>\n",
       "      <th>11</th>\n",
       "      <td>2200 to 2359</td>\n",
       "      <td>1.411530</td>\n",
       "      <td>0.201972</td>\n",
       "      <td>48.405066</td>\n",
       "    </tr>\n",
       "  </tbody>\n",
       "</table>\n",
       "</div>"
      ],
      "text/plain": [
       "   Time interval  % of Cancelled flights  % of Diverted flights  \\\n",
       "0   0000 to 0159                0.704148               0.138641   \n",
       "1   0200 to 0359                0.949743               0.079145   \n",
       "2   0400 to 0559                2.021723               0.264618   \n",
       "3   0600 to 0759                1.731236               0.238205   \n",
       "4   0800 to 0959                1.639799               0.181882   \n",
       "5   1000 to 1159                1.667328               0.215628   \n",
       "6   1200 to 1359                1.761302               0.260658   \n",
       "7   1400 to 1559                2.019878               0.278768   \n",
       "8   1600 to 1759                2.442924               0.252030   \n",
       "9   1800 to 1959                2.411165               0.208090   \n",
       "10  2000 to 2159                1.986829               0.175189   \n",
       "11  2200 to 2359                1.411530               0.201972   \n",
       "\n",
       "    % of Delayed flights  \n",
       "0              41.446240  \n",
       "1              40.522359  \n",
       "2              31.347778  \n",
       "3              34.295530  \n",
       "4              39.584104  \n",
       "5              42.961064  \n",
       "6              46.077362  \n",
       "7              49.425974  \n",
       "8              51.871674  \n",
       "9              52.541861  \n",
       "10             52.973069  \n",
       "11             48.405066  "
      ]
     },
     "execution_count": 25,
     "metadata": {},
     "output_type": "execute_result"
    }
   ],
   "source": [
    "q1c1 = pd.DataFrame(q1c1)\n",
    "q1c1 = q1c1[[3,0,1,2]] # Using indexing to rearrange columns in an appropriate manner\n",
    "q1c1 = q1c1.rename(columns={3 : \"Time interval\", 0 : \"% of Cancelled flights\", 1 : \"% of Diverted flights\", 2 : \"% of Delayed flights\"})\n",
    "q1c1"
   ]
  },
  {
   "cell_type": "code",
   "execution_count": 26,
   "id": "b46dbcf6",
   "metadata": {},
   "outputs": [
    {
     "data": {
      "image/png": "[encoded data removed]",
      "text/plain": [
       "<Figure size 1440x288 with 3 Axes>"
      ]
     },
     "metadata": {
      "needs_background": "light"
     },
     "output_type": "display_data"
    }
   ],
   "source": [
    "Time_interval_names = [\"0000hrs to 0159hrs\", \"0200hrs to 0359hrs\", \"0400hrs to 0559hrs\", \"0600hrs to 0759hrs\", \"0800hrs to 0959hrs\", \"1000hrs to 1159hrs\", \"1200hrs to 1359hrs\", \"1400hrs to 1559hrs\", \"1600hrs to 1759hrs\", \"1800hrs to 1959hrs\", \"2000hrs to 2159hrs\", \"2200hrs to 2359hrs\"]\n",
    "\n",
    "fig, ax = plt.subplots(1, 3, figsize = (20, 4))\n",
    "\n",
    "# Creating a plot for the percentage of cancelled flights by time of day in 2006 & 2007 combined. \n",
    "q1c1[[\"Time interval\",\"% of Cancelled flights\"]].plot.bar(0, 1, ax = ax[0], alpha = 0.8, legend = False, rot = 45)\n",
    "\n",
    "ax[0].set_xticklabels(Time_interval_names)\n",
    "ax[0].set_xlabel(\"Time interval\")\n",
    "ax[0].set_ylabel(\"Cancelled flights percentage\")\n",
    "ax[0].title.set_text(\"Figure 1.3a: Cancelled flights % by Time of Day\")\n",
    "\n",
    "# Creating a plot for the percentage of diverted flights by time of day in 2006 & 2007 combined. \n",
    "q1c1[[\"Time interval\",\"% of Diverted flights\"]].plot.bar(0, 1, ax = ax[1], alpha = 0.75, legend = False, rot = 45, color = \"mediumseagreen\")\n",
    "\n",
    "ax[1].set_xticklabels(Time_interval_names)\n",
    "ax[1].set_xlabel(\"Time interval\")\n",
    "ax[1].set_ylabel(\"Diverted flights percentage\")\n",
    "ax[1].title.set_text(\"Figure 1.3b: Diverted flights % by Time of Day\")\n",
    "\n",
    "# Creating a plot for the percentage of delayed flights by time of day in 2006 & 2007 combined. \n",
    "q1c1[[\"Time interval\",\"% of Delayed flights\"]].plot.bar(0, 1, ax = ax[2], alpha = 0.6, legend = False, rot = 45, color = \"mediumpurple\")\n",
    "\n",
    "ax[2].set_xticklabels(Time_interval_names)\n",
    "ax[2].set_xlabel(\"Time interval\")\n",
    "ax[2].set_ylabel(\"Delayed flights percentage\")\n",
    "ax[2].title.set_text(\"Figure 1.3c: Delayed flights % by Time of Day\")"
   ]
  },
  {
   "cell_type": "markdown",
   "id": "f51880b5",
   "metadata": {},
   "source": [
    "**Observations from results above**\n",
    "\n",
    "The **percentage of cancelled flights** is lowest during the time interval of **0000hrs to 0159hrs** (0.70%), followed by 0200hrs to 0359hrs (0.95%) & 2200hrs to 2359hrs (1.41%). The **percentage of diverted flights** is lowest in **0200hrs to 0359hrs** (0.08%), followed by 0000hrs to 0159hrs (0.14%) & 2000hrs to 2159hrs (0.18%). The **percentage of delayed flights** is lowest in **0400hrs to 0559hrs** (31.35%), followed by 0600hrs to 0759hrs (34.30%) & 0800hrs to 0959hrs (39.58%). "
   ]
  },
  {
   "cell_type": "code",
   "execution_count": 27,
   "id": "119ca24b",
   "metadata": {},
   "outputs": [],
   "source": [
    "# Querying from airlinemain_py.db database to extract information regarding average arrival delay by time of day for years \n",
    "# 2006 & 2007.\n",
    "q1c2 = c.execute('''\n",
    "                    SELECT (AVG(ArrDelay)),\n",
    "                    CASE WHEN CRSDepTime BETWEEN 0000 AND 0159 THEN '0000 to 0159'\n",
    "                         WHEN CRSDepTime BETWEEN 0200 AND 0359 THEN '0200 to 0359'\n",
    "                         WHEN CRSDepTime BETWEEN 0400 AND 0559 THEN '0400 to 0559'\n",
    "                         WHEN CRSDepTime BETWEEN 0600 AND 0759 THEN '0600 to 0759'\n",
    "                         WHEN CRSDepTime BETWEEN 0800 AND 0959 THEN '0800 to 0959'\n",
    "                         WHEN CRSDepTime BETWEEN 1000 AND 1159 THEN '1000 to 1159'\n",
    "                         WHEN CRSDepTime BETWEEN 1200 AND 1359 THEN '1200 to 1359'\n",
    "                         WHEN CRSDepTime BETWEEN 1400 AND 1559 THEN '1400 to 1559'\n",
    "                         WHEN CRSDepTime BETWEEN 1600 AND 1759 THEN '1600 to 1759'\n",
    "                         WHEN CRSDepTime BETWEEN 1800 AND 1959 THEN '1800 to 1959'\n",
    "                         WHEN CRSDepTime BETWEEN 2000 AND 2159 THEN '2000 to 2159'\n",
    "                         WHEN CRSDepTime BETWEEN 2200 AND 2359 THEN '2200 to 2359'\n",
    "                         END AS TimeFrame\n",
    "                    FROM ontime\n",
    "                    WHERE Cancelled = 0 AND Diverted = 0\n",
    "                    GROUP BY CASE WHEN CRSDepTime BETWEEN 0000 AND 0159 THEN '0000 to 0159'\n",
    "                                  WHEN CRSDepTime BETWEEN 0200 AND 0359 THEN '0200 to 0359'\n",
    "                                  WHEN CRSDepTime BETWEEN 0400 AND 0559 THEN '0400 to 0559'\n",
    "                                  WHEN CRSDepTime BETWEEN 0600 AND 0759 THEN '0600 to 0759'\n",
    "                                  WHEN CRSDepTime BETWEEN 0800 AND 0959 THEN '0800 to 0959'\n",
    "                                  WHEN CRSDepTime BETWEEN 1000 AND 1159 THEN '1000 to 1159'\n",
    "                                  WHEN CRSDepTime BETWEEN 1200 AND 1359 THEN '1200 to 1359'\n",
    "                                  WHEN CRSDepTime BETWEEN 1400 AND 1559 THEN '1400 to 1559'\n",
    "                                  WHEN CRSDepTime BETWEEN 1600 AND 1759 THEN '1600 to 1759'\n",
    "                                  WHEN CRSDepTime BETWEEN 1800 AND 1959 THEN '1800 to 1959'\n",
    "                                  WHEN CRSDepTime BETWEEN 2000 AND 2159 THEN '2000 to 2159'\n",
    "                                  WHEN CRSDepTime BETWEEN 2200 AND 2359 THEN '2200 to 2359'\n",
    "                                  END\n",
    "                    ORDER BY TimeFrame''').fetchall()"
   ]
  },
  {
   "cell_type": "code",
   "execution_count": 28,
   "id": "2734c994",
   "metadata": {},
   "outputs": [
    {
     "data": {
      "text/html": [
       "<div>\n",
       "<style scoped>\n",
       "    .dataframe tbody tr th:only-of-type {\n",
       "        vertical-align: middle;\n",
       "    }\n",
       "\n",
       "    .dataframe tbody tr th {\n",
       "        vertical-align: top;\n",
       "    }\n",
       "\n",
       "    .dataframe thead th {\n",
       "        text-align: right;\n",
       "    }\n",
       "</style>\n",
       "<table border=\"1\" class=\"dataframe\">\n",
       "  <thead>\n",
       "    <tr style=\"text-align: right;\">\n",
       "      <th></th>\n",
       "      <th>Time interval</th>\n",
       "      <th>Avg Arrival Delay (mins)</th>\n",
       "    </tr>\n",
       "  </thead>\n",
       "  <tbody>\n",
       "    <tr>\n",
       "      <th>0</th>\n",
       "      <td>0000 to 0159</td>\n",
       "      <td>3.508904</td>\n",
       "    </tr>\n",
       "    <tr>\n",
       "      <th>1</th>\n",
       "      <td>0200 to 0359</td>\n",
       "      <td>4.502999</td>\n",
       "    </tr>\n",
       "    <tr>\n",
       "      <th>2</th>\n",
       "      <td>0400 to 0559</td>\n",
       "      <td>0.738958</td>\n",
       "    </tr>\n",
       "    <tr>\n",
       "      <th>3</th>\n",
       "      <td>0600 to 0759</td>\n",
       "      <td>1.297589</td>\n",
       "    </tr>\n",
       "    <tr>\n",
       "      <th>4</th>\n",
       "      <td>0800 to 0959</td>\n",
       "      <td>3.815354</td>\n",
       "    </tr>\n",
       "    <tr>\n",
       "      <th>5</th>\n",
       "      <td>1000 to 1159</td>\n",
       "      <td>5.955356</td>\n",
       "    </tr>\n",
       "    <tr>\n",
       "      <th>6</th>\n",
       "      <td>1200 to 1359</td>\n",
       "      <td>9.026592</td>\n",
       "    </tr>\n",
       "    <tr>\n",
       "      <th>7</th>\n",
       "      <td>1400 to 1559</td>\n",
       "      <td>12.374599</td>\n",
       "    </tr>\n",
       "    <tr>\n",
       "      <th>8</th>\n",
       "      <td>1600 to 1759</td>\n",
       "      <td>15.496993</td>\n",
       "    </tr>\n",
       "    <tr>\n",
       "      <th>9</th>\n",
       "      <td>1800 to 1959</td>\n",
       "      <td>16.668321</td>\n",
       "    </tr>\n",
       "    <tr>\n",
       "      <th>10</th>\n",
       "      <td>2000 to 2159</td>\n",
       "      <td>15.724848</td>\n",
       "    </tr>\n",
       "    <tr>\n",
       "      <th>11</th>\n",
       "      <td>2200 to 2359</td>\n",
       "      <td>9.281447</td>\n",
       "    </tr>\n",
       "  </tbody>\n",
       "</table>\n",
       "</div>"
      ],
      "text/plain": [
       "   Time interval  Avg Arrival Delay (mins)\n",
       "0   0000 to 0159                  3.508904\n",
       "1   0200 to 0359                  4.502999\n",
       "2   0400 to 0559                  0.738958\n",
       "3   0600 to 0759                  1.297589\n",
       "4   0800 to 0959                  3.815354\n",
       "5   1000 to 1159                  5.955356\n",
       "6   1200 to 1359                  9.026592\n",
       "7   1400 to 1559                 12.374599\n",
       "8   1600 to 1759                 15.496993\n",
       "9   1800 to 1959                 16.668321\n",
       "10  2000 to 2159                 15.724848\n",
       "11  2200 to 2359                  9.281447"
      ]
     },
     "execution_count": 28,
     "metadata": {},
     "output_type": "execute_result"
    }
   ],
   "source": [
    "q1c2 = pd.DataFrame(q1c2)\n",
    "q1c2 = q1c2[[1,0]] # Using indexing to rearrange columns in an appropriate manner\n",
    "q1c2 = q1c2.rename(columns={1 : \"Time interval\", 0 : \"Avg Arrival Delay (mins)\"})\n",
    "q1c2"
   ]
  },
  {
   "cell_type": "code",
   "execution_count": 29,
   "id": "e4b34dc1",
   "metadata": {},
   "outputs": [
    {
     "data": {
      "image/png": "[encoded data removed]",
      "text/plain": [
       "<Figure size 432x288 with 1 Axes>"
      ]
     },
     "metadata": {
      "needs_background": "light"
     },
     "output_type": "display_data"
    }
   ],
   "source": [
    "fig, ax = plt.subplots()\n",
    "\n",
    "# Creating a plot for the average arrival delay by time of day in 2006 & 2007 combined.\n",
    "q1c2[[\"Time interval\",\"Avg Arrival Delay (mins)\"]].plot.bar(0, 1, ax = ax, alpha = 0.5, legend = False, rot = 45, color = \"firebrick\")\n",
    "\n",
    "ax.set_xticklabels(Time_interval_names)\n",
    "ax.set_xlabel(\"Time interval\")\n",
    "ax.set_ylabel(\"Average Arrival Delay in Mins\")\n",
    "ax.title.set_text(\"Figure 1.3d: Average Arrival Delay by Time of Day\")"
   ]
  },
  {
   "cell_type": "markdown",
   "id": "c30cf3fe",
   "metadata": {},
   "source": [
    "**Observations from results above**\n",
    "\n",
    "The time of day with the **lowest average arrival delay** is the time interval of **0400hrs to 0559hrs** (0.74 mins), followed by 0600hrs to 0759hrs (1.30 mins) & 0000hrs to 0159hrs (3.51 mins). \n",
    "\n",
    "**Overall decision on best day of week to fly**\n",
    "\n",
    "Once again, since the percentage of cancelled & diverted flights are extremely low, we shall not take them into consideration for choosing best time of day to fly. The main determinants for the best time of day to fly would be the percentage of delayed flights & the average arrival delay by time of day. From the results above, **0400hrs to 0559hrs** is the **best time of day** to fly as the percentage of delayed flights & the average arrival delay is lowest during the time interval of 0400hrs to 0559hrs compared to other time intervals within a day."
   ]
  },
  {
   "cell_type": "code",
   "execution_count": 30,
   "id": "161a37ad",
   "metadata": {},
   "outputs": [],
   "source": [
    "# Closing connection to airlinemain_py.db\n",
    "conn.close()"
   ]
  }
 ],
 "metadata": {
  "kernelspec": {
   "display_name": "Python 3",
   "language": "python",
   "name": "python3"
  },
  "language_info": {
   "codemirror_mode": {
    "name": "ipython",
    "version": 3
   },
   "file_extension": ".py",
   "mimetype": "text/x-python",
   "name": "python",
   "nbconvert_exporter": "python",
   "pygments_lexer": "ipython3",
   "version": "3.8.8"
  }
 },
 "nbformat": 4,
 "nbformat_minor": 5
}
